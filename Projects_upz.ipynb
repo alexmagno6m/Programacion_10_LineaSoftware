{
 "cells": [
  {
   "cell_type": "markdown",
   "id": "2a45a467",
   "metadata": {},
   "source": [
    "### Piedra papel y tijera"
   ]
  },
  {
   "cell_type": "markdown",
   "id": "0742881a",
   "metadata": {},
   "source": [
    "```\n",
    "# Imports go at the top\n",
    "from microbit import *\n",
    "from random import randint\n",
    "\n",
    "\n",
    "\n",
    "hand = 0\n",
    "while True:\n",
    "    if accelerometer.was_gesture('shake'):\n",
    "        hand = randint(1,3)\n",
    "        if hand == 1:\n",
    "            display.show(Image.SQUARE_SMALL)\n",
    "            audio.play(Sound.GIGGLE)\n",
    "        elif hand == 2:\n",
    "            display.show(Image.SQUARE)\n",
    "            audio.play(Sound.SLIDE)\n",
    "        else:\n",
    "            display.show(Image.SCISSORS)\n",
    "            audio.play(Sound.SAD)\n",
    "```"
   ]
  },
  {
   "cell_type": "markdown",
   "id": "51ee67f4",
   "metadata": {},
   "source": [
    "### Dados"
   ]
  },
  {
   "cell_type": "markdown",
   "id": "6a9bfdea",
   "metadata": {},
   "source": [
    "```\n",
    "#Imports go at the top\n",
    "from microbit import *\n",
    "from random import randint\n",
    "import radio\n",
    "\n",
    "radio.on()\n",
    "radio.config(group=1)\n",
    "\n",
    "global dado\n",
    "dado = 0\n",
    "\n",
    "\n",
    "while True:\n",
    "    message = radio.receive()\n",
    "    if button_a.is_pressed():\n",
    "        display.clear()\n",
    "    if button_b.is_pressed():\n",
    "        dado = randint(1, 6)\n",
    "        display.show(dado)\n",
    "    if accelerometer.was_gesture('shake'):\n",
    "        dado = randint(1,6)\n",
    "        display.show(dado)\n",
    "        radio.send(str(dado))\n",
    "    if message:\n",
    "        display.scroll(message)\n",
    "        if int(message) >= dado:\n",
    "            display.show(Image.SAD)\n",
    "        else:\n",
    "            display.show(Image.HAPPY)\n",
    "```"
   ]
  },
  {
   "cell_type": "markdown",
   "id": "13d81f5a",
   "metadata": {},
   "source": []
  }
 ],
 "metadata": {
  "kernelspec": {
   "display_name": "Python 3 (ipykernel)",
   "language": "python",
   "name": "python3"
  },
  "language_info": {
   "codemirror_mode": {
    "name": "ipython",
    "version": 3
   },
   "file_extension": ".py",
   "mimetype": "text/x-python",
   "name": "python",
   "nbconvert_exporter": "python",
   "pygments_lexer": "ipython3",
   "version": "3.9.4"
  },
  "toc": {
   "base_numbering": 1,
   "nav_menu": {},
   "number_sections": true,
   "sideBar": true,
   "skip_h1_title": false,
   "title_cell": "Table of Contents",
   "title_sidebar": "Contents",
   "toc_cell": false,
   "toc_position": {},
   "toc_section_display": true,
   "toc_window_display": false
  }
 },
 "nbformat": 4,
 "nbformat_minor": 5
}
