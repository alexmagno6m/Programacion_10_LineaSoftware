{
 "cells": [
  {
   "cell_type": "markdown",
   "id": "0d0b12fe-f5a1-4c21-92df-463cc5aab1bb",
   "metadata": {},
   "source": [
    "__Profesor: Alexander Acevedo Gómez__"
   ]
  },
  {
   "cell_type": "markdown",
   "id": "228e1bea-817f-47de-9280-a933e06cd3a3",
   "metadata": {},
   "source": [
    "__Docente de Programación de Software__"
   ]
  },
  {
   "cell_type": "markdown",
   "id": "825772c9-82cd-40a0-b3e3-bf43be7e767d",
   "metadata": {},
   "source": [
    "__Universidad Nacional de Colombia__"
   ]
  },
  {
   "cell_type": "markdown",
   "id": "2e49d90b-c452-4da4-9e97-6fd9cc94f594",
   "metadata": {},
   "source": [
    "__Universidad Jorge Tadeo Lozano__"
   ]
  },
  {
   "cell_type": "markdown",
   "id": "99888691-85ff-451a-8c8f-6c594c38a284",
   "metadata": {},
   "source": [
    "## Introducción"
   ]
  },
  {
   "cell_type": "markdown",
   "id": "b0d72781-df0e-4920-8e27-92e163763312",
   "metadata": {},
   "source": [
    "El propósito del laboratorio de sensores es demostrar al estudiante las capacidades de expansión de la tarjeta Micro:bit v2, ampliando las posibilidades de interactuar con el ambiente al probar diferentes tipos de sensores, creando nuevos campos de interés que incluso pueden ser fuente de desarrollo y estudio para el proyecto final de media. "
   ]
  },
  {
   "cell_type": "markdown",
   "id": "7a99f0ad-bcb9-475d-b3dc-fe2881728389",
   "metadata": {},
   "source": [
    "La manera de conectar sensores externos es empleando la tarjeta de expansión __Keyestudio Micro bit Sensor Shield V2__. La cual sirve como interfaz de conexión entre la tarjeta Microbit y los sensores externos, empleando, en la mayoría de casos, cables __F-F Dupont Jumper__.  Como efecto colateral se busca propiciar un acercamiento al funcionamiento de los circuitos elctrónicos, sus características fundamentales, los diagramas de conexión y otros elementos técnicos que favorecen las capacidades de programación."
   ]
  },
  {
   "cell_type": "markdown",
   "id": "23e266c1-985d-4bd8-8988-8841e3a213a4",
   "metadata": {},
   "source": [
    "# Procedimiento general del laboratorio - experiencia de campo y conocimiento"
   ]
  },
  {
   "cell_type": "markdown",
   "id": "c7b6142c-3618-4386-96d1-0eff25f0963f",
   "metadata": {},
   "source": [
    "El estudiante debe seguir el siguiente protocolo de desarrollo del laboratorio:"
   ]
  },
  {
   "cell_type": "markdown",
   "id": "4fab8442-f8e0-4835-b6ce-5a5008ab0f2c",
   "metadata": {},
   "source": [
    "1. Llenar en la ficha tecnica de descripción y resultados, los siguientes datos:\n",
    "    - Nombre del laboratorio\n",
    "    - Competencia\n",
    "    - Ambito conceptual\n",
    "    - Objetivo\n",
    "2. Indicar los materiales de software empleados.\n",
    "3. Realizar la programación correspondiente según la experiencia que se le haya asignado.\n",
    "4. Una vez realizada la programación solicitar revisión del algoritmo, realizar las correcciones necesarias si es el caso.\n",
    "5. Aprobado el algoritmo debe llenar la tabla del diagrama de conexión de la experiencia que va a realizar.\n",
    "6. Una vez llena la tabla de conexión debe llevar su tarjeta Microbit, correctamente flasheada a la mesa de pruebas. Alli un monitor le guiara en el proceso de conexión.\n",
    "7. En ese punto debe ejecutar el proceso que inicializa el sensor.\n",
    "8. Finalmente debe escribir sus observaciones detalladas en la ficha para obtener el sello."
   ]
  },
  {
   "cell_type": "markdown",
   "id": "7d726a69-8511-49d4-8032-dd516632e83f",
   "metadata": {},
   "source": [
    "# Laboratorio de Sensores I"
   ]
  },
  {
   "cell_type": "markdown",
   "id": "d0de2a20-7f49-4fbf-80cb-e432b5293dfb",
   "metadata": {},
   "source": [
    "## Led Blink (parpadeo de led)"
   ]
  },
  {
   "cell_type": "markdown",
   "id": "854508fc-5e2d-4aa7-9bc5-c566602a59c7",
   "metadata": {},
   "source": [
    "Copie en la ficha lo siguiente:"
   ]
  },
  {
   "cell_type": "markdown",
   "id": "3feb2803-fe4e-4001-a89a-74b765dddae2",
   "metadata": {},
   "source": [
    "> Competencia: 3\n",
    "> \n",
    "> Ámbito conceptual: Laboratorio de sensores\n",
    "> \n",
    "> Objetivo 1: Conectar correctamente la tarjeta  Microbit y el sensor unitario LED en la tarjeta de expansión KeyStudio\n",
    ">\n",
    "> Objetivo 2: Ejecutar satisfactoriamente, sin errores, el algoritmo, logrando que el sensor LED parpadee de forma intermitente según las condiciones establecidas.\n",
    "> \n",
    "> Nombre del laboratorio: Led Blink"
   ]
  },
  {
   "cell_type": "markdown",
   "id": "80ee6d26-e06b-4cd8-a6ab-618d49adb66b",
   "metadata": {},
   "source": [
    "### Problema"
   ]
  },
  {
   "cell_type": "markdown",
   "id": "59e4e796-ef17-4af6-8aa2-e9e0923d991d",
   "metadata": {},
   "source": [
    "Debe programarse la Microbit para que envie una señal digital en el ```Pin 0``` (en el que se conectará el led) para que este se active y desactive continuamente de forma que el led encienda de forma intermitente."
   ]
  },
  {
   "cell_type": "markdown",
   "id": "c3182570-4804-42e2-ae7d-8c1b3d3a2987",
   "metadata": {},
   "source": [
    "### Restricción"
   ]
  },
  {
   "cell_type": "markdown",
   "id": "2d49abf4-3d59-4855-80f6-1d6e85734b47",
   "metadata": {},
   "source": [
    "La intermitencia debe durar ```500ms```"
   ]
  },
  {
   "cell_type": "markdown",
   "id": "20ae3ef0-f0b2-4268-b210-0ffe9d0acc03",
   "metadata": {},
   "source": [
    "### Diagrama de conexión (esquema de montaje)"
   ]
  },
  {
   "cell_type": "markdown",
   "id": "bb6de8ed-f31b-461c-8a3e-61eef8970cde",
   "metadata": {},
   "source": [
    "```\n",
    "SENSOR--> [Keyestudio sensor V2 shield]\n",
    "[G] ----> [G1] en la tarjeta de expansión\n",
    "[V] ----> [V0] en la tarjeta de expansión\n",
    "[S] ----> [SO] en la tarjeta de expansión\n",
    "```"
   ]
  },
  {
   "cell_type": "markdown",
   "id": "d9658672-aa2f-47cf-b173-f50b9936bdf7",
   "metadata": {},
   "source": [
    "```Digital White LED Module```"
   ]
  },
  {
   "cell_type": "code",
   "execution_count": null,
   "id": "e83b6714-82c5-4d83-885b-12970a3984b1",
   "metadata": {},
   "outputs": [],
   "source": []
  }
 ],
 "metadata": {
  "kernelspec": {
   "display_name": "Python 3 (ipykernel)",
   "language": "python",
   "name": "python3"
  },
  "language_info": {
   "codemirror_mode": {
    "name": "ipython",
    "version": 3
   },
   "file_extension": ".py",
   "mimetype": "text/x-python",
   "name": "python",
   "nbconvert_exporter": "python",
   "pygments_lexer": "ipython3",
   "version": "3.12.1"
  }
 },
 "nbformat": 4,
 "nbformat_minor": 5
}
