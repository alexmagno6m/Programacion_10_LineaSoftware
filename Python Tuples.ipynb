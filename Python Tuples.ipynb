{
 "cells": [
  {
   "cell_type": "markdown",
   "id": "b537ef4f",
   "metadata": {},
   "source": [
    "# Python Tuples"
   ]
  },
  {
   "cell_type": "markdown",
   "id": "44f102d9",
   "metadata": {},
   "source": [
    "Las tuplas son colecciones de datos, a diferencia de las listas son inmutables, es decir, su tamaño no puede variar,"
   ]
  },
  {
   "cell_type": "markdown",
   "id": "d980649d",
   "metadata": {},
   "source": [
    "## Tuples Operations"
   ]
  },
  {
   "cell_type": "markdown",
   "id": "824e2729",
   "metadata": {},
   "source": [
    "### Index"
   ]
  },
  {
   "cell_type": "markdown",
   "id": "234f99f2",
   "metadata": {},
   "source": [
    "> Se usa el operador ```[]``` para acceder al índice de una tupla, los índices en Python inician en 0, si una tupla tiene 5 elementos sus indices iran desde el 0 hasta el 4. El índice debe ser un numero entero, no se admite ningun otro tipo de numero como flotantes o expresiones boleanas."
   ]
  },
  {
   "cell_type": "markdown",
   "id": "5c401279",
   "metadata": {},
   "source": [
    "### Negatives Indexing"
   ]
  },
  {
   "cell_type": "markdown",
   "id": "2dd6992a",
   "metadata": {},
   "source": [
    "> Los indices negativos toman como limite el ultimo elemento de una tupla, por ejemplo el índice ```-1```, refiere al ultimo elemento, ```-2``` indica el item anterior al último, y asi sucesivamente."
   ]
  },
  {
   "cell_type": "markdown",
   "id": "e2cb3269",
   "metadata": {},
   "source": [
    "### Slicing"
   ]
  },
  {
   "cell_type": "markdown",
   "id": "a0fe6574",
   "metadata": {},
   "source": [
    "> Se puede acceder a un rango de elementos en una tupla usando el operador ```:```, por ejemplo al usar ```[2:5]``` se extrae desde el elemento en la posicion 2 hasta el ubicado en la posicion 4. Es decir ```[a:b]``` muestra el rango de elementos desde ```a``` hasta ```b```, sin incluir a __b__."
   ]
  },
  {
   "cell_type": "markdown",
   "id": "e43274cf",
   "metadata": {},
   "source": [
    "## Tuples Methods"
   ]
  },
  {
   "cell_type": "markdown",
   "id": "e9ae2bef",
   "metadata": {},
   "source": [
    "En python los metodos para agregar o eliminar elementos no son permitidos en las tuplas, solo son lícitos los siguientes dos metodos:"
   ]
  },
  {
   "cell_type": "markdown",
   "id": "571d175c",
   "metadata": {},
   "source": [
    "### ```.count``` Method"
   ]
  },
  {
   "cell_type": "markdown",
   "id": "6bd79ce0",
   "metadata": {},
   "source": [
    "> Indica el numero total de veces que se encuentra un item dentro de la tupla ```.count(item)```"
   ]
  },
  {
   "cell_type": "markdown",
   "id": "d6886677",
   "metadata": {},
   "source": [
    "### ```.index``` Method"
   ]
  },
  {
   "cell_type": "markdown",
   "id": "e28ebd7b",
   "metadata": {},
   "source": [
    "> Devuelve el indice donde se encuentra el primer item que coincida con la busqueda ```.index(item)```"
   ]
  },
  {
   "cell_type": "markdown",
   "id": "2dd6fab6",
   "metadata": {},
   "source": [
    "## Checking if an item exist"
   ]
  },
  {
   "cell_type": "markdown",
   "id": "0e03ee7e",
   "metadata": {},
   "source": [
    "Para comprobar si un determinado item existe dentro de una tupla, se usa la expresion ```ìn```, por ejemplo:"
   ]
  },
  {
   "cell_type": "markdown",
   "id": "ec710509",
   "metadata": {},
   "source": [
    "> ```print(item in tuple)```, devolvera ```True``` si el item se encuentra o ```False``` si no hace parte de la tupla."
   ]
  }
 ],
 "metadata": {
  "kernelspec": {
   "display_name": "Python 3 (ipykernel)",
   "language": "python",
   "name": "python3"
  },
  "language_info": {
   "codemirror_mode": {
    "name": "ipython",
    "version": 3
   },
   "file_extension": ".py",
   "mimetype": "text/x-python",
   "name": "python",
   "nbconvert_exporter": "python",
   "pygments_lexer": "ipython3",
   "version": "3.9.7"
  }
 },
 "nbformat": 4,
 "nbformat_minor": 5
}
