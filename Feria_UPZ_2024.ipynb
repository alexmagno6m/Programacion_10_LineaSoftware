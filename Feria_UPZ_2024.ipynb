{
 "cells": [
  {
   "cell_type": "markdown",
   "id": "4d1e98a3-934a-4908-85bc-a8305267c554",
   "metadata": {},
   "source": [
    "# Proyectos presentación feria UPZ 2024"
   ]
  },
  {
   "cell_type": "markdown",
   "id": "428c3fe8-5272-4a15-9205-2b6db083dc90",
   "metadata": {},
   "source": [
    "A continuación, se presentan los 6 proyectos que se han desarrollado en clase a lo largo del año y que deben ser expuestos el viernes 18 de octubre en la feria UPZ"
   ]
  },
  {
   "cell_type": "markdown",
   "id": "46a9fad6-d4a2-49f6-a4b0-d1b349351324",
   "metadata": {},
   "source": [
    "### Obtención del sello"
   ]
  },
  {
   "cell_type": "markdown",
   "id": "acc9ca6c-ce2a-468e-92ba-614b539f016c",
   "metadata": {},
   "source": [
    "Copie en su cuaderno:"
   ]
  },
  {
   "cell_type": "markdown",
   "id": "047a75c2-d35d-4572-b70a-ab535fb7d24c",
   "metadata": {},
   "source": [
    "> 1. Competencia: 2\n",
    "> 2. Ambito conceptual: Estructuras esenciales de programación\n",
    "> 3. Objetivo: Agregar las diferentes estructuras de programación vistas para la correcta formulación de la respuesta a un problema planteado.\n",
    "> 4. Nombre de la actividad: Proyecto exposición Feria UPZ"
   ]
  },
  {
   "cell_type": "markdown",
   "id": "ce2fd8fa-1bf7-4300-9eeb-116041445b1f",
   "metadata": {},
   "source": [
    "## Proyecto 1: Dados"
   ]
  },
  {
   "cell_type": "markdown",
   "id": "11c2484a-7029-4010-b4b5-baedc1393803",
   "metadata": {},
   "source": [
    "Realice un programa para que dos Microbit al agitarse simulen el lanzamiento de un dado, mostrando la cara correspondiente, luego al presionar el boton B se le comunique a la otra Microbit el valor que salió y si coinciden muestren una cara Feliz y si no una cara triste."
   ]
  },
  {
   "cell_type": "markdown",
   "id": "422e099d-eb56-4687-9057-7f604b4c828e",
   "metadata": {},
   "source": [
    "## Proyecto 2: Juego de Números"
   ]
  },
  {
   "cell_type": "markdown",
   "id": "d2f2ab5e-28b3-4d77-8bec-492a1752f88a",
   "metadata": {},
   "source": [
    "Esta actividad al agitarse la microbit se debe mostrar un número aleatorio del 1 al 20, el usuario debe \"apostar\" si el proximo número en salir es __A: mayor o igual al actual__ o __B: menor__. Si decide que es mayor oprime el boton A, en caso contrario el boton B, en ese momento la microbit debe mostrar un nuevo numero y segun la eleccion del usuario indicar con cara feliz si ganó o con cara triste si perdió."
   ]
  },
  {
   "cell_type": "markdown",
   "id": "0b54f5c4-bd6e-4363-b81e-fd675f607a24",
   "metadata": {},
   "source": [
    "## Proyecto 3: Piedra Papel Tijera"
   ]
  },
  {
   "cell_type": "markdown",
   "id": "1eca41dc-5ad0-424b-b4fa-61ac09ef2ff4",
   "metadata": {},
   "source": [
    "Cada Microbit debe estar programada para que al agitarse muestre las figuras de __Piedra, Papel o Tijera__, segun lo visto en el transcurso de la clase. La idea es que dos usuarios juegen empleando cada uno su propia Microbit."
   ]
  },
  {
   "cell_type": "markdown",
   "id": "5bab7bb8-a61d-4e55-a959-a5b5f5539717",
   "metadata": {},
   "source": [
    "## Proyecto 4: Led Blink con activacion sin Luz"
   ]
  },
  {
   "cell_type": "markdown",
   "id": "0e398b39-e621-4bf1-9333-99dcbad22614",
   "metadata": {},
   "source": [
    "En este proyecto el sensor LED se debe encender unicamente cuando la microbit detecte que no hay Luz, y mantenerse apagado en caso contrario."
   ]
  },
  {
   "cell_type": "markdown",
   "id": "1ed40692-8b0f-4079-bdea-1eded9a34748",
   "metadata": {},
   "source": [
    "## Proyecto 5: Juego de Dados"
   ]
  },
  {
   "cell_type": "markdown",
   "id": "4fa08961-cfe9-44f7-aa5a-9803ff366da4",
   "metadata": {},
   "source": [
    "Es una combinacion del proyecto 1 y 2, en este caso se genera un numero aleatorio para mostrar cada cara del dado y el numero debe ser enviado a la otra Microbit al presionar el boton A, una vez se recibe la señal el otro usuario agita su microbit, si el numero que sale es mayor o igual gana, si es menor pierde, mostrando una cada feliz y otra triste respectivamente."
   ]
  },
  {
   "cell_type": "markdown",
   "id": "ee6d1d38-b7f3-490b-a5fc-ed3938a722b3",
   "metadata": {},
   "source": [
    "## Proyecto 6: Led Blink con activación por sonido"
   ]
  },
  {
   "cell_type": "markdown",
   "id": "120ff919-2001-40fe-bd67-f13e1aac3bdc",
   "metadata": {},
   "source": [
    "Es el proyecto realizado en el laboratorio de sensores (Modificación 1), el usuario debe emitir un aplauso fuerte para que el led se encienda."
   ]
  }
 ],
 "metadata": {
  "kernelspec": {
   "display_name": "Python 3 (ipykernel)",
   "language": "python",
   "name": "python3"
  },
  "language_info": {
   "codemirror_mode": {
    "name": "ipython",
    "version": 3
   },
   "file_extension": ".py",
   "mimetype": "text/x-python",
   "name": "python",
   "nbconvert_exporter": "python",
   "pygments_lexer": "ipython3",
   "version": "3.12.1"
  }
 },
 "nbformat": 4,
 "nbformat_minor": 5
}
