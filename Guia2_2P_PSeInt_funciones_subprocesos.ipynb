{
 "cells": [
  {
   "cell_type": "markdown",
   "id": "ddccdd59",
   "metadata": {},
   "source": [
    "Profesor: __Alexander Acevedo Gómez__ <br>\n",
    "Ingeniero de Sistemas - __Universidad Nacional de Colombia__ <br>\n",
    "Magister en Modelado y Simulacion por Computador - __Universidad Jorge Tadeo Lozano__ <br>\n",
    "__Telegram: @Alex6m__"
   ]
  },
  {
   "cell_type": "markdown",
   "id": "d5d41025",
   "metadata": {},
   "source": [
    "# Guia 2 - Funciones o Subprocesos\n",
    "Las funciones son secciones de codigo que se ejecutan independientemente.\n",
    "## Sintaxis\n",
    "\n",
    "> ```\n",
    "Funcion variable_de_retorno <- nombre_de_la_funcion ( argumento_1, argumento_2, ... )\n",
    "          acción 1;\n",
    "          acción 2;\n",
    "               .\n",
    "               .\n",
    "               .\n",
    "          acción n;\n",
    "FinFuncion\n",
    ">```\n",
    "> ## Variable de retorno\n",
    "> Las funciones por lo general deben mostrar un resultado, esto permite reutilizarlas, este elemento es opcional pero se recomienda que siempre haya una variable de retorno.\n",
    ">\n",
    "> ## Nombre de la funcion\n",
    "> Elemento obligatorio, el nombre debe ser difefente al de la variable de retorno, debe conservar las mismas reglas de los nombres de las variables\n",
    ">\n",
    "> ## Argumentos\n",
    "> Son opcionales, en caso de ser mas de uno, deben estar separados con comas, los argumentos si se declaran deben usarse dentro del cuerpo de la funcion.\n",
    ">\n",
    "> ## Cuerpo de la funcion\n",
    "> Son las instrucciones (accion 1, accion 2, etc) que ejecutara la funcion."
   ]
  },
  {
   "cell_type": "markdown",
   "id": "798f9335",
   "metadata": {},
   "source": [
    "## Definir una funcion\n",
    "Cuando creamos la funcion, es decir le damos un nombre e indicamos la variable de retorno o sus argumentos se dice que definimos la funcion. Por ejemplo, la siguiente funcion suma dos numeros:\n",
    "> ```\n",
    "Funcion ResSuma <- suma ( a, b )\n",
    "\tResSuma <- a + b\n",
    "Fin Funcion\n",
    "> ```\n",
    "> Las funciones en PSeInt deben escribirse antes del algoritmo\n",
    "> Note lo siguiente:\n",
    "> - La funcion suma retorna la variable ResSuma\n",
    "> - Si indicamos una variable de retorno esta obligatoriamente se debe usar en el cuerpo de la funcion\n",
    "> - Lo mismo sucede con los argumentos como ya se menciono antes."
   ]
  },
  {
   "cell_type": "markdown",
   "id": "09628f9d",
   "metadata": {},
   "source": [
    "##  Invocar una funcion\n",
    "Cuando queremos emplear una funcion que previamente hemos creado se dice que la estamos invocando o llamando. Para invocar una funcion en PSeINt, debemos escribir el nombre que definimos y en caso de tener argumentos los valores que se asignaran, por ejemplo:\n",
    "> ```\n",
    "Algoritmo ejemplo\n",
    "\tEscribir suma(5,4)\n",
    "FinAlgoritmo\n",
    "> ```\n",
    "> ## Pasar Argumentos\n",
    "> Es el valor que le damos a cada uno de los argumentos, en el ejemplo, al argumento _a_ le pasamos como valor el numero 5 y al argumento _b_ le pasamos el 4.\n",
    ">\n",
    "> Debido a que la funcion tiene variable de retorno el uso del comando escribir nos debe mostrar el resultado de la suma de 5 + 4.\n",
    ">\n",
    "> ## Intercambio de Variables\n",
    "> De forma equivalente podemos usar, intercambio de variables para almacenar el resultado de la funcion en una nueva variable y poder reutilizarlo mas adelante, esta practica es mas aconsejada:\n",
    ">\n",
    "> ```\n",
    "Algoritmo ejemplo\n",
    "\tvarA = suma(5,4)\n",
    "\tEscribir varA * 2\n",
    "FinAlgoritmo\n",
    "> ```\n",
    "> - Cuanto crees dara como resultado la expresion varA * 2 ?"
   ]
  },
  {
   "cell_type": "markdown",
   "id": "127dac68",
   "metadata": {},
   "source": [
    "# Ejercicio\n",
    "## Parte Teorica\n",
    "Contesta en tu cuaderno\n",
    "> 1. Observa el siguiente codigo\n",
    ">\n",
    "> ```\n",
    "Funcion res <- CalcularDoble(num) \n",
    "\tres <- num * 2\n",
    "Fin Funcion\n",
    "> ```\n",
    ">\n",
    "> Escribe en tu cuaderno:\n",
    "> - Cual es la variable de retorno?\n",
    "> - Cual es el aergumento?\n",
    "> - QUe nombre tiene la funcion?\n",
    "> - Que accion realiza la funcion?\n",
    "> - Como invocarias la funcion si queremos pasar como argumento el numero 10?"
   ]
  },
  {
   "cell_type": "markdown",
   "id": "0b33eb08",
   "metadata": {},
   "source": [
    "## Parte practica\n",
    "Resuelve en PSeInt\n",
    "> 1. Crea una funcion,asignale el nombre que desees, debe recibir como argumento la hora actual, la funcion calcula las horas que hacen falta para terminar el dia y retornar este valor. Las horas deben expresarse en formato militar, por ejemplo las 2PM seran las 1400, las 5Pm las 1700, etc.\n",
    ">\n",
    ">> - Invoca la funcion pasando como argumento la hora actual en formato militar.\n",
    ">\n",
    "> 2. En otro archivo crea una nueva funcion, nombrala como desees, debe recibir como argumento dos numeros, debe indicar si son positivos, negativos o iguales a cero.\n",
    ">\n",
    ">> - Invoca la funcion pasando como argumento -5 y 0."
   ]
  }
 ],
 "metadata": {
  "kernelspec": {
   "display_name": "Python 3 (ipykernel)",
   "language": "python",
   "name": "python3"
  },
  "language_info": {
   "codemirror_mode": {
    "name": "ipython",
    "version": 3
   },
   "file_extension": ".py",
   "mimetype": "text/x-python",
   "name": "python",
   "nbconvert_exporter": "python",
   "pygments_lexer": "ipython3",
   "version": "3.10.4"
  }
 },
 "nbformat": 4,
 "nbformat_minor": 5
}
