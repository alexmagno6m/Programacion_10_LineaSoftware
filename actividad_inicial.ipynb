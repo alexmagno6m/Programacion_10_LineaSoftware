{
 "cells": [
  {
   "cell_type": "markdown",
   "id": "c2fccb99-6316-40b5-ae2e-6948f2fe3c84",
   "metadata": {},
   "source": [
    "### Clase de programación - Línea de programación y diseño de software"
   ]
  },
  {
   "cell_type": "markdown",
   "id": "90a30e43-682c-4532-adbb-5488700004c3",
   "metadata": {},
   "source": [
    "#### Profesor: Alexander Acevedo"
   ]
  },
  {
   "cell_type": "markdown",
   "id": "f52651cc-0aa6-4edd-a85d-0bdff7a3db97",
   "metadata": {},
   "source": [
    "# Actividad Inicial"
   ]
  },
  {
   "cell_type": "markdown",
   "id": "2103c0bc-e2a7-4bab-ac4c-b88ee2ce8e8f",
   "metadata": {},
   "source": [
    "Vamos a conocer que tanto sabes de programación, no importa si sabes mucho, poco o nada, la idea es competir, a veces la suerte tambien cuenta!"
   ]
  },
  {
   "cell_type": "markdown",
   "id": "cd18ae96-46d5-4205-9140-a24717122828",
   "metadata": {},
   "source": [
    "## Competencia de saberes previos"
   ]
  },
  {
   "cell_type": "markdown",
   "id": "7f520a94-fab8-4daa-97a2-a3f0abc64e60",
   "metadata": {},
   "source": [
    "Emplearemos la plataforma __Mentimeter__ para responder una serie de preguntas."
   ]
  },
  {
   "attachments": {},
   "cell_type": "markdown",
   "id": "6883c3dd-81d1-4c67-b373-f031fa735992",
   "metadata": {},
   "source": [
    "> ### Instrucciones\n",
    ">\n",
    "> - La competencia consta de 12 preguntas de opción multiple con una sola respuesta correcta.\n",
    "> - Las preguntas tienen un tiempo máximo para que respondas, usualmente 7 segundos, si respondes fuera del tiempo, tu respuesta no será tenida en cuenta :(\n",
    "> - Ganarás mas puntos si respondes correctamente y lo haces en menos tiempo que los demás.\n",
    "> - Los primeros cinco lugares obtendrán 5 puntos, los siguientes cinco 4, los otros cinco 3 y asi sucesivamente."
   ]
  },
  {
   "cell_type": "markdown",
   "id": "4fef4d97-38c5-469d-815f-5d9cb4f3a991",
   "metadata": {},
   "source": [
    "> ### Ingresa al Quiz!\n",
    ">\n",
    "> 1. Ingresa a la página: [mentimeter.com](https://www.mentimeter.com/es-ES)\n",
    "> 2. Digita el codigo ```5566 3450```\n",
    "> 3. Tambien puedes ingresar directamente a este link: [Link a quiz](https://www.menti.com/alzspqz31mpu).\n",
    "> 4. Escribe tu nombre y apellido, no emplees apodos o disminutivos porque tu puntuación no será tenida en cuenta."
   ]
  },
  {
   "cell_type": "markdown",
   "id": "3df438e9-ab60-4e14-a1d3-085f7458bb88",
   "metadata": {},
   "source": [
    "### Para obtener tu sello con la nota"
   ]
  },
  {
   "cell_type": "markdown",
   "id": "adec2271-0734-4b92-958b-8089ccc3c6e9",
   "metadata": {},
   "source": [
    "Para obtener el sello y recibir la nota, una vez terminado el quiz competencia, debes escribir en tu cuaderno:"
   ]
  },
  {
   "cell_type": "markdown",
   "id": "5b14a373-9e93-476c-8eab-37ce9876acf0",
   "metadata": {},
   "source": [
    "> - __Actividad Inicial - Quiz de competencia__\n",
    "> - __Ámbito conceptual__: Los algoritmos en la vida común y en la programación\n",
    "> - __Competencia cognitiva__: 1\n",
    "> - __Objetivo__: Participar activamente en el quiz propuesto para reconocer saber previos de programación o adquirirlos según sea el caso."
   ]
  },
  {
   "cell_type": "code",
   "execution_count": null,
   "id": "f4fb24eb-5d13-421d-aae2-59c2bab8e5c8",
   "metadata": {},
   "outputs": [],
   "source": []
  }
 ],
 "metadata": {
  "kernelspec": {
   "display_name": "Python 3 (ipykernel)",
   "language": "python",
   "name": "python3"
  },
  "language_info": {
   "codemirror_mode": {
    "name": "ipython",
    "version": 3
   },
   "file_extension": ".py",
   "mimetype": "text/x-python",
   "name": "python",
   "nbconvert_exporter": "python",
   "pygments_lexer": "ipython3",
   "version": "3.12.1"
  }
 },
 "nbformat": 4,
 "nbformat_minor": 5
}
