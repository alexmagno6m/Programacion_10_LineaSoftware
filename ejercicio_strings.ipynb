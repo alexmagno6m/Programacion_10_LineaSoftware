{
 "cells": [
  {
   "cell_type": "markdown",
   "id": "f5e9d908",
   "metadata": {},
   "source": [
    "# Aplicacion Metodos con Strings"
   ]
  },
  {
   "cell_type": "markdown",
   "id": "1cf59907",
   "metadata": {},
   "source": [
    "### Copie las frases asignadas en ```Pycharm``` segun las indicaciones del profesor, asignelas a su propia variable:"
   ]
  },
  {
   "cell_type": "markdown",
   "id": "45a0d554",
   "metadata": {},
   "source": [
    "1. \"La vida es lo que sucede cuando estás ocupado haciendo otros planes\". - John Lennon\n",
    "2. \"La única manera de hacer un gran trabajo es amar lo que haces\". - Steve Jobs\n",
    "3. \"La mejor manera de predecir el futuro es crearlo\". - Abraham Lincoln\n",
    "4. \"La esperanza es un sueño que nunca se duerme\". - Anónimo\n",
    "5. \"El secreto de la vida es encontrar tu pasión y vivirla\". - Helen Keller\n",
    "6. \"El conocimiento es poder\". - Francis Bacon\n",
    "7. \"La educación es la clave para el éxito\". - Nelson Mandela\n",
    "8. \"La fuerza es lo que te mantiene en movimiento; la resistencia es lo que te hace fuerte\". - Oprah Winfrey\n",
    "9. \"La felicidad es la clave de la vida\". - Albert Einstein\n",
    "10. \"La belleza es en el ojo del espectador\". - Oscar Wilde\n",
    "11. \"El amor es todo lo que necesitas\". - The Beatles\n",
    "12. \"La risa es la mejor medicina\". - George Bernard Shaw\n",
    "13. \"La esperanza es lo último que muere\". - Virgilio\n",
    "14. \"La vida es un viaje, no un destino\". - Ralph Waldo Emerson\n",
    "15. \"La mejor manera de aprender es hacer\". - John Dewey\n",
    "16. \"El fracaso es una parte natural de la vida\". - Walt Disney\n",
    "17. \"Nunca te rindas en tus sueños\". - Nelson Mandela\n",
    "18. \"El mundo es tuyo para conquistarlo\". - Alexander Graham Bell\n",
    "19. \"La única cosa que es constante es el cambio\" - Heráclito (540-470 a.C.)\n",
    "20. \"Seamos lo que somos\" - Sócrates (470-399 a.C.)\n",
    "21. \"El conocimiento es poder\" - Francis Bacon (1561-1626)\n",
    "22. \"La vida es un sueño\" - René Descartes (1596-1650)\n",
    "23. \"El hombre es un lobo para el hombre\" - Thomas Hobbes (1588-1679)\n",
    "24. \"El hombre es la medida de todas las cosas\" - Protágoras (481-411 a.C.)\n",
    "25. \"La verdad es relativa\" - Friedrich Nietzsche (1844-1900)\n",
    "26. \"El amor es la fuerza más poderosa del universo\" - Platón (428-348 a.C.)\n",
    "27. \"La belleza está en el ojo del espectador\" - David Hume (1711-1776)\n",
    "28. \"La imaginación es el límite\" - Albert Einstein (1879-1955)\n",
    "29. \"La esperanza es lo último que muere\" - Virgilio (70-19 a.C.)\n",
    "30. \"La libertad es un derecho inalienable\" - John Locke (1632-1704)\n",
    "31. \"La igualdad es la meta de todo ser humano\" - Martin Luther King Jr. (1929-1968)\n",
    "32. \"La paz es la aspiración de toda civilización\" - Mahatma Gandhi (1869-1948)\n",
    "33. \"La tolerancia es la clave para la convivencia\" - Voltaire (1694-1778)\n",
    "34. \"La comprensión es la base del entendimiento\" - Sócrates (470-399 a.C.)\n",
    "35. \"El perdón es el camino hacia la libertad\" - Nelson Mandela (1918-2013)\n",
    "36. \"La esperanza es la luz al final del túnel\" - Dante Alighieri (1265-1321)\n",
    "37. \"No hay nada en el mundo que no pueda lograrse si se trabaja duro y se tiene fe en uno mismo\" - Marie Curie\n",
    "38. \"La ciencia es el camino para conocer la verdad sobre el mundo que nos rodea. Es un proceso de investigación que nos permite comprender cómo funciona el universo\" - Galileo Galilei (1564-1642)"
   ]
  },
  {
   "cell_type": "markdown",
   "id": "a902dce9",
   "metadata": {},
   "source": [
    "### Realice las siguientes operaciones con ambas cadenas"
   ]
  },
  {
   "cell_type": "markdown",
   "id": "40ffe89d",
   "metadata": {},
   "source": [
    "1. Cambie la inicial de las frases a mayusculas\n",
    "2. Obtenga el numero de veces que aparece la letra __\"a\"__\n",
    "3. Convierta todos los caracteres a minuscula, use el metodo ```casefold```\n",
    "4. Encuentre la posicion en la que aparece la palabra __\"es\"__\n",
    "5. Compruebe si las frases solo contienen letras ```isalpha```\n",
    "6. Compruebe si todo el texto esta en minusculas\n",
    "7. Convierta solo la primera letra a mayusculas\n",
    "8. Centre ambas frases con 150 espacios y relleno ```*```\n",
    "9. Convierta el texto a mayusculas\n",
    "10. Obtenga la longitud de la cadena"
   ]
  }
 ],
 "metadata": {
  "kernelspec": {
   "display_name": "Python 3 (ipykernel)",
   "language": "python",
   "name": "python3"
  },
  "language_info": {
   "codemirror_mode": {
    "name": "ipython",
    "version": 3
   },
   "file_extension": ".py",
   "mimetype": "text/x-python",
   "name": "python",
   "nbconvert_exporter": "python",
   "pygments_lexer": "ipython3",
   "version": "3.9.7"
  }
 },
 "nbformat": 4,
 "nbformat_minor": 5
}
