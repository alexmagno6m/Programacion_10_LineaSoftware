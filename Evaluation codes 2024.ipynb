{
 "cells": [
  {
   "cell_type": "markdown",
   "id": "b769ebf7",
   "metadata": {},
   "source": [
    "# Código de registro para la plataforma ClassMarker"
   ]
  },
  {
   "cell_type": "markdown",
   "id": "3b6b7f13",
   "metadata": {},
   "source": [
    "A continuacion usted encontrara el codigo que le permitira acceder a la plataforma ClassMarker, tenga en cuenta:\n",
    "\n",
    "- El codigo es personal e intransferible\n",
    "- No use el codigo asignado a otra persona, esto le implicará sanciones\n",
    "- El codigo solo se puede usar UNA VEZ\n",
    "- El codigo es valido tanto para informatica y programacion (si es su caso)."
   ]
  },
  {
   "cell_type": "markdown",
   "id": "3283f5e3",
   "metadata": {},
   "source": [
    "## Información sobre el Password"
   ]
  },
  {
   "cell_type": "markdown",
   "id": "cb8b0155",
   "metadata": {},
   "source": [
    "Para evitar errores en la introduccion del password, se recomienda que lo escriba en bloc de notas y despues lo copie y pegue en la plataforma."
   ]
  },
  {
   "cell_type": "markdown",
   "id": "d2bda96c",
   "metadata": {},
   "source": [
    "## Códigos"
   ]
  },
  {
   "cell_type": "markdown",
   "id": "7db7fd8b",
   "metadata": {},
   "source": [
    "| Nombre                             | Código         |\n",
    "|------------------------------------|----------------|\n",
    "| AREVALO GOMEZ VALERY MICHELL       | 4C61158352067T |\n",
    "| BUCARELLO LUGO CAMILA SARAY        | HA2115835203E6 |\n",
    "| CARDENAS SUAREZ ASHLEY             | YX8115835209TY |\n",
    "| CONTRERAS PIÑEROS PAULA LORENA     | G73115835209PF |\n",
    "| DURAN BARRERA DANNA MICHELL        | Q92115835209NX |\n",
    "| ESLAVA LABASTIDAS PAULA KATHERINE  | Q331158352027Q |\n",
    "| GAMBOA CASTILLO WILMARY COROMOTO   | DG31158352089B |\n",
    "| GARZON SORIANO ENMANUEL SANTIAGO   | 9C311583520539 |\n",
    "| GUEVARA ORTIZ EMMANUEL             | 3C41158352033X |\n",
    "| LINARES SALAMANCA NEIVER ALEJANDRO | 443115835204D9 |\n",
    "| OJEDA QUECAN YAMID FELIPE          | QM61158352009G |\n",
    "| POVEDA SIERRA ANDREW               | GN21158352017Y |\n",
    "| SAAVEDRA LEGUIZAMON VALERIE        | YP0115835203JY |\n",
    "| SALAZAR FORERO DAVID SANTIAGO      | 3Y811583520133 |\n",
    "| SALGADO PEDRAZA JUAN DAVID         | YM5115835204KX |"
   ]
  },
  {
   "cell_type": "markdown",
   "id": "a1220467",
   "metadata": {},
   "source": [
    "## Regístrese en la Plataforma"
   ]
  },
  {
   "cell_type": "markdown",
   "id": "169dae36",
   "metadata": {},
   "source": [
    "Una vez haya copiado su código, proceda a la página de la plataforma cuando el profesor lo indique"
   ]
  },
  {
   "cell_type": "markdown",
   "id": "47423142",
   "metadata": {},
   "source": [
    "[ClassMarquer](https://www.classmarker.com/register/)"
   ]
  }
 ],
 "metadata": {
  "kernelspec": {
   "display_name": "Python 3 (ipykernel)",
   "language": "python",
   "name": "python3"
  },
  "language_info": {
   "codemirror_mode": {
    "name": "ipython",
    "version": 3
   },
   "file_extension": ".py",
   "mimetype": "text/x-python",
   "name": "python",
   "nbconvert_exporter": "python",
   "pygments_lexer": "ipython3",
   "version": "3.12.1"
  }
 },
 "nbformat": 4,
 "nbformat_minor": 5
}
