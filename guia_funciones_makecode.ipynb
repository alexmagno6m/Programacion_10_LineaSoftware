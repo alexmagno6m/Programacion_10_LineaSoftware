{
 "cells": [
  {
   "cell_type": "markdown",
   "id": "f66f2ce7-8f50-4eef-b299-d0ef928db68f",
   "metadata": {},
   "source": [
    "- Profesor: Alexander Acevedo Gómez\n",
    "- __Universidad Nacional de Colombia__\n",
    "- __MSc Modelado y Simulación__\n",
    "- __Universidad Jorge Tadeo Lozano__"
   ]
  },
  {
   "cell_type": "markdown",
   "id": "866477b4-915f-416c-8558-c8761dc28bed",
   "metadata": {},
   "source": [
    "# Guía Funciones en Makecode"
   ]
  },
  {
   "cell_type": "markdown",
   "id": "5f5afe0c-0a11-4c3f-a351-20bd154e74e8",
   "metadata": {},
   "source": [
    "1. Copie el siguiente driagrama en su cuaderno"
   ]
  },
  {
   "cell_type": "markdown",
   "id": "f28c846e-25a7-4465-982f-7ef4c508ddf7",
   "metadata": {},
   "source": []
  }
 ],
 "metadata": {
  "kernelspec": {
   "display_name": "Python 3 (ipykernel)",
   "language": "python",
   "name": "python3"
  },
  "language_info": {
   "codemirror_mode": {
    "name": "ipython",
    "version": 3
   },
   "file_extension": ".py",
   "mimetype": "text/x-python",
   "name": "python",
   "nbconvert_exporter": "python",
   "pygments_lexer": "ipython3",
   "version": "3.9.4"
  }
 },
 "nbformat": 4,
 "nbformat_minor": 5
}
