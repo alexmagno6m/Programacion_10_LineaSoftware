{
 "cells": [
  {
   "cell_type": "markdown",
   "id": "5525c5d4-751f-48a3-ba46-694ab4b44f33",
   "metadata": {},
   "source": [
    "# Actividad Radio"
   ]
  },
  {
   "cell_type": "markdown",
   "id": "87e3c649-411d-4e92-a54f-55a65d56b4b9",
   "metadata": {},
   "source": [
    "## Obtención del sello"
   ]
  },
  {
   "cell_type": "markdown",
   "id": "530e08f7-975b-430d-a4de-d8e4ccc7f0a7",
   "metadata": {},
   "source": [
    "Escriba en su cuaderno:"
   ]
  },
  {
   "cell_type": "markdown",
   "id": "afa4bea1-300d-4b01-8c0b-caa4580e2b2e",
   "metadata": {},
   "source": [
    "- Comptetencia: 3\n",
    "- Ambito conceptual: Diagramas de flujo aplicados a bloques, eventos de radio\n",
    "- Objetivo: Crear adecuadamente un programa en MakeCode que interactúe con valores numericos a traves de la funcion radio y responda segun las condiciones establecidas."
   ]
  },
  {
   "cell_type": "markdown",
   "id": "ce2a2d2f-7576-42c4-a9e6-3efc7be5ba52",
   "metadata": {},
   "source": [
    "## Desarrolle (5 Puntos)"
   ]
  },
  {
   "cell_type": "markdown",
   "id": "401324fd-a14a-4583-a78f-b83a9361b22d",
   "metadata": {},
   "source": [
    "1. En MakeCode emplee el bloque radio para que al presionar el `boton A` se genere un numero al azar entre 1 y 6 y se enviado por radio con el bloque `radio enviar numero`.\n",
    "2. Aparte de la anterior estructura, empleando el bloque `al recibir radio recibir numero` prepare el resto de bloque para que se muestre el numero que ha recibido desde otra Microbit asi:\n",
    "> - Si el numero es 1 debe mostrar el mensaje \"Game Over\"\n",
    "> - Si el numero es 6 debe mostrar el mensaje \"Winner\"\n",
    "> - Si es cualquier otro numero debe mostrar una cara triste\n",
    "3. Una vez terminado debe probar su codigo con la Microbit del profesor."
   ]
  },
  {
   "cell_type": "markdown",
   "id": "efba5dba-1e4b-42c7-a8c6-a14cd5baf2f0",
   "metadata": {},
   "source": [
    "## Finalización de la actividad (5 Puntos)"
   ]
  },
  {
   "cell_type": "markdown",
   "id": "99344b81-fbe7-4626-af7b-172eaaab4765",
   "metadata": {},
   "source": [
    "A continuación se muestra un diagrama de flujo que propone una solución del ejercicio acudiendo al paradigma de programación funcional, esto es, empleando funciones para separar el codigo en diferentes secciones para mejorar su legibilidad."
   ]
  },
  {
   "cell_type": "markdown",
   "id": "6fe350e7-984c-4dfe-b9fd-5114f32e6e03",
   "metadata": {},
   "source": [
    "#### [Enlace](https://viewer.diagrams.net/?tags=%7B%7D&lightbox=1&highlight=0000ff&edit=_blank&layers=1&nav=1&title=actividad%20radio%20programacion%2010.drawio&dark=auto#Uhttps%3A%2F%2Fdrive.google.com%2Fuc%3Fid%3D1ATLZ7_u2qIPwaK-nENX5OvrLtCew6ka4%26export%3Ddownload)"
   ]
  },
  {
   "cell_type": "markdown",
   "id": "3ff12386-a8fa-44eb-9173-273f6f24db03",
   "metadata": {},
   "source": [
    "1. Realice el diagrama de flujo en su cuaderno dibujando las cuatro partes\n",
    "2. Replique el diagrama empleando el software DrawIO\n",
    "3. Guarde el diagrama en su carpeta personal con el nombre `diagrama_ejercicio_radio_azar`\n",
    "4. Una vez creado, copie en su cuaderno lo siguiente:"
   ]
  },
  {
   "cell_type": "markdown",
   "id": "719031f8-b061-4095-8055-15e17a11102f",
   "metadata": {},
   "source": [
    "- Competencia: 4\n",
    "- Ámbito conceptual: Diagramas de flujo aplicados a bloques\n",
    "- Objetivo: Emplear correctamente software generador de diagramas de flujo para proponer o replicar algoritmos desarrollados en makecode"
   ]
  }
 ],
 "metadata": {
  "kernelspec": {
   "display_name": "Python 3 (ipykernel)",
   "language": "python",
   "name": "python3"
  },
  "language_info": {
   "codemirror_mode": {
    "name": "ipython",
    "version": 3
   },
   "file_extension": ".py",
   "mimetype": "text/x-python",
   "name": "python",
   "nbconvert_exporter": "python",
   "pygments_lexer": "ipython3",
   "version": "3.12.1"
  }
 },
 "nbformat": 4,
 "nbformat_minor": 5
}
