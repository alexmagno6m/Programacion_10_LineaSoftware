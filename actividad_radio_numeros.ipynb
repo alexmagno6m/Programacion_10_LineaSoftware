{
 "cells": [
  {
   "cell_type": "markdown",
   "id": "5525c5d4-751f-48a3-ba46-694ab4b44f33",
   "metadata": {},
   "source": [
    "# Actividad Radio"
   ]
  },
  {
   "cell_type": "markdown",
   "id": "87e3c649-411d-4e92-a54f-55a65d56b4b9",
   "metadata": {},
   "source": [
    "## Obtención del sello"
   ]
  },
  {
   "cell_type": "markdown",
   "id": "530e08f7-975b-430d-a4de-d8e4ccc7f0a7",
   "metadata": {},
   "source": [
    "Escriba en su cuaderno:"
   ]
  },
  {
   "cell_type": "markdown",
   "id": "afa4bea1-300d-4b01-8c0b-caa4580e2b2e",
   "metadata": {},
   "source": [
    "- Comptetencia: 3\n",
    "- Ambito conceptual: Diagramas de flujo aplicados a bloques, eventos de radio\n",
    "- Objetivo: Crear adecuadamente un programa en MakeCode que interactúe con valores numericos a traves de la funcion radio y responda segun las condiciones establecidas."
   ]
  },
  {
   "cell_type": "markdown",
   "id": "ce2a2d2f-7576-42c4-a9e6-3efc7be5ba52",
   "metadata": {},
   "source": [
    "## Desarrolle"
   ]
  },
  {
   "cell_type": "markdown",
   "id": "401324fd-a14a-4583-a78f-b83a9361b22d",
   "metadata": {},
   "source": [
    "1. En MakeCode emplee el bloque radio para que al presionar el `boton A` se genere un numero al azar entre 1 y 6 y se enviado por radio con el bloque `radio enviar numero`.\n",
    "2. Aparte de la anterior estructura, empleando el bloque `al recibir radio recibir numero` prepare el resto de bloque para que se muestre el numero que ha recibido desde otra Microbit asi:\n",
    "> - Si el numero es 1 debe mostrar el mensaje \"Game Over\"\n",
    "> - Si el numero es 6 debe mostrar el mensaje \"Winner\"\n",
    "> - Si es cualquier otro numero debe mostrar una cara triste\n",
    "3. Una vez terminado debe probar su codigo con la Microbit del profesor."
   ]
  }
 ],
 "metadata": {
  "kernelspec": {
   "display_name": "Python 3 (ipykernel)",
   "language": "python",
   "name": "python3"
  },
  "language_info": {
   "codemirror_mode": {
    "name": "ipython",
    "version": 3
   },
   "file_extension": ".py",
   "mimetype": "text/x-python",
   "name": "python",
   "nbconvert_exporter": "python",
   "pygments_lexer": "ipython3",
   "version": "3.9.4"
  }
 },
 "nbformat": 4,
 "nbformat_minor": 5
}
