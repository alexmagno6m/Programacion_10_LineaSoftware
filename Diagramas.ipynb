{
 "cells": [
  {
   "cell_type": "markdown",
   "id": "60607501-161b-4e8c-a48c-b9362d6cbda8",
   "metadata": {},
   "source": [
    "# Diagramas de Excalidraw y DrawIIO"
   ]
  },
  {
   "cell_type": "markdown",
   "id": "1f2da822-89cf-4a2f-9b55-fa0f424d98a0",
   "metadata": {},
   "source": [
    "### Diagrama empleo de radio (bluetooth)"
   ]
  },
  {
   "cell_type": "markdown",
   "id": "342ba909-7945-414b-bde1-09d464afc146",
   "metadata": {},
   "source": [
    "[Enlace](https://viewer.diagrams.net/?tags=%7B%7D&lightbox=1&highlight=0000ff&edit=_blank&layers=1&nav=1&title=diagrama%20radio.drawio&dark=auto#Uhttps%3A%2F%2Fdrive.google.com%2Fuc%3Fid%3D1E95Ww_mbajwSdUXRA9Ds0ZMbOOataRAC%26export%3Ddownload)"
   ]
  },
  {
   "cell_type": "markdown",
   "id": "9fa966cb-a17b-44e9-80d5-44d9064f05c3",
   "metadata": {},
   "source": [
    "### Diagrama Estructúra de arrays"
   ]
  },
  {
   "cell_type": "markdown",
   "id": "fa59a6a1-d2cd-42e8-8264-c2aef23511e5",
   "metadata": {},
   "source": [
    "[enlace](https://excalidraw.com/#json=69SfyLvJ5suuisvZQBJ1i,-BfvNX0iUkeZKRiO5AR22Q)"
   ]
  },
  {
   "cell_type": "markdown",
   "id": "8b4f7839-8890-4d0d-ad4e-c120e2c33f64",
   "metadata": {},
   "source": [
    "## Diagrmama funciones"
   ]
  },
  {
   "cell_type": "markdown",
   "id": "90c4aa56-e989-4e48-881a-e0f1e8e30a27",
   "metadata": {},
   "source": [
    "Realizar en el cuaderno"
   ]
  },
  {
   "cell_type": "markdown",
   "id": "a8f7b5bc-b2a9-46d9-b5cf-b076a10b40d4",
   "metadata": {},
   "source": [
    "![funciones](diagrama_funciones.png)"
   ]
  },
  {
   "cell_type": "code",
   "execution_count": null,
   "id": "93c3bf37-1103-44c2-8085-5963c3e35525",
   "metadata": {},
   "outputs": [],
   "source": []
  }
 ],
 "metadata": {
  "kernelspec": {
   "display_name": "Python 3 (ipykernel)",
   "language": "python",
   "name": "python3"
  },
  "language_info": {
   "codemirror_mode": {
    "name": "ipython",
    "version": 3
   },
   "file_extension": ".py",
   "mimetype": "text/x-python",
   "name": "python",
   "nbconvert_exporter": "python",
   "pygments_lexer": "ipython3",
   "version": "3.9.4"
  }
 },
 "nbformat": 4,
 "nbformat_minor": 5
}
